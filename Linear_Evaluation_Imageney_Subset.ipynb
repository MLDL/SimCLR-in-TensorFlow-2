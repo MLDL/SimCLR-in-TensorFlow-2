{
  "nbformat": 4,
  "nbformat_minor": 0,
  "metadata": {
    "colab": {
      "name": "scratchpad",
      "provenance": []
    },
    "kernelspec": {
      "display_name": "Python 3",
      "name": "python3"
    },
    "accelerator": "GPU"
  },
  "cells": [
    {
      "cell_type": "code",
      "metadata": {
        "colab_type": "code",
        "id": "lIYdn1woOS1n",
        "colab": {
          "base_uri": "https://localhost:8080/",
          "height": 34
        },
        "outputId": "6bf1dd55-feb5-4d9f-8871-f0b4e52ec9c3"
      },
      "source": [
        "import tensorflow as tf\n",
        "print(tf.__version__)"
      ],
      "execution_count": 1,
      "outputs": [
        {
          "output_type": "stream",
          "text": [
            "2.2.0-rc4\n"
          ],
          "name": "stdout"
        }
      ]
    },
    {
      "cell_type": "code",
      "metadata": {
        "id": "M3obU9ZXpGR0",
        "colab_type": "code",
        "colab": {
          "base_uri": "https://localhost:8080/",
          "height": 306
        },
        "outputId": "7f4b1d4a-9484-4a49-d194-e6bd2fbde5d6"
      },
      "source": [
        "!nvidia-smi"
      ],
      "execution_count": 2,
      "outputs": [
        {
          "output_type": "stream",
          "text": [
            "Fri May  8 10:05:21 2020       \n",
            "+-----------------------------------------------------------------------------+\n",
            "| NVIDIA-SMI 440.82       Driver Version: 418.67       CUDA Version: 10.1     |\n",
            "|-------------------------------+----------------------+----------------------+\n",
            "| GPU  Name        Persistence-M| Bus-Id        Disp.A | Volatile Uncorr. ECC |\n",
            "| Fan  Temp  Perf  Pwr:Usage/Cap|         Memory-Usage | GPU-Util  Compute M. |\n",
            "|===============================+======================+======================|\n",
            "|   0  Tesla K80           Off  | 00000000:00:04.0 Off |                    0 |\n",
            "| N/A   59C    P8    28W / 149W |      0MiB / 11441MiB |      0%      Default |\n",
            "+-------------------------------+----------------------+----------------------+\n",
            "                                                                               \n",
            "+-----------------------------------------------------------------------------+\n",
            "| Processes:                                                       GPU Memory |\n",
            "|  GPU       PID   Type   Process name                             Usage      |\n",
            "|=============================================================================|\n",
            "|  No running processes found                                                 |\n",
            "+-----------------------------------------------------------------------------+\n"
          ],
          "name": "stdout"
        }
      ]
    },
    {
      "cell_type": "code",
      "metadata": {
        "id": "mxKGVaEtpQX8",
        "colab_type": "code",
        "colab": {
          "base_uri": "https://localhost:8080/",
          "height": 34
        },
        "outputId": "a2696e6f-8df0-463c-fc32-aa42d744dae8"
      },
      "source": [
        "from google.colab import auth\n",
        "auth.authenticate_user()\n",
        "\n",
        "PROJECT_ID = \"fast-ai-exploration\" \n",
        "!gcloud config set project $PROJECT_ID"
      ],
      "execution_count": 3,
      "outputs": [
        {
          "output_type": "stream",
          "text": [
            "Updated property [core/project].\n"
          ],
          "name": "stdout"
        }
      ]
    },
    {
      "cell_type": "code",
      "metadata": {
        "id": "JoQSrT6gpbNM",
        "colab_type": "code",
        "colab": {
          "base_uri": "https://localhost:8080/",
          "height": 68
        },
        "outputId": "fbc170bb-9727-4931-fed2-faf654da7082"
      },
      "source": [
        "!gsutil cp gs://resnet_simclr_imagenet/20200508-091658resnet_simclr.h5 ."
      ],
      "execution_count": 4,
      "outputs": [
        {
          "output_type": "stream",
          "text": [
            "Copying gs://resnet_simclr_imagenet/20200508-091658resnet_simclr.h5...\n",
            "| [1 files][ 92.3 MiB/ 92.3 MiB]                                                \n",
            "Operation completed over 1 objects/92.3 MiB.                                     \n"
          ],
          "name": "stdout"
        }
      ]
    },
    {
      "cell_type": "code",
      "metadata": {
        "id": "HJQZoWXYpjeN",
        "colab_type": "code",
        "colab": {}
      },
      "source": [
        "# Gather dataset\n",
        "!git clone https://github.com/thunderInfy/imagenet-5-categories"
      ],
      "execution_count": 0,
      "outputs": []
    },
    {
      "cell_type": "code",
      "metadata": {
        "id": "dCsK6zBRpmdo",
        "colab_type": "code",
        "colab": {}
      },
      "source": [
        "# Other imports\n",
        "from sklearn.preprocessing import LabelEncoder\n",
        "from sklearn.manifold import TSNE\n",
        "from tensorflow.keras.layers import *\n",
        "from tensorflow.keras.models import *\n",
        "import matplotlib.pyplot as plt\n",
        "from imutils import paths\n",
        "from tqdm import tqdm\n",
        "import tensorflow as tf\n",
        "import seaborn as sns\n",
        "import numpy as np\n",
        "import cv2\n",
        "\n",
        "# Random seed fixation\n",
        "tf.random.set_seed(666)\n",
        "np.random.seed(666)"
      ],
      "execution_count": 0,
      "outputs": []
    },
    {
      "cell_type": "code",
      "metadata": {
        "id": "2PRnOXCdppEg",
        "colab_type": "code",
        "colab": {
          "base_uri": "https://localhost:8080/",
          "height": 34
        },
        "outputId": "d41d72a0-ce69-4e14-bb7f-bb9684b3a4e1"
      },
      "source": [
        "# Train and test image paths\n",
        "train_images = list(paths.list_images(\"imagenet-5-categories/train\"))\n",
        "test_images = list(paths.list_images(\"imagenet-5-categories/test\"))\n",
        "print(len(train_images), len(test_images))"
      ],
      "execution_count": 4,
      "outputs": [
        {
          "output_type": "stream",
          "text": [
            "1250 250\n"
          ],
          "name": "stdout"
        }
      ]
    },
    {
      "cell_type": "code",
      "metadata": {
        "id": "3-unR2HSqQJ0",
        "colab_type": "code",
        "colab": {
          "base_uri": "https://localhost:8080/",
          "height": 34
        },
        "outputId": "4c2088e5-87fb-452e-cb60-681a188c5781"
      },
      "source": [
        "# 10% of the dataset\n",
        "train_images_10 = np.random.choice(train_images, len(train_images)//10)\n",
        "len(train_images_10)"
      ],
      "execution_count": 5,
      "outputs": [
        {
          "output_type": "execute_result",
          "data": {
            "text/plain": [
              "125"
            ]
          },
          "metadata": {
            "tags": []
          },
          "execution_count": 5
        }
      ]
    },
    {
      "cell_type": "code",
      "metadata": {
        "id": "9giRP85TqizW",
        "colab_type": "code",
        "colab": {}
      },
      "source": [
        "def prepare_images(image_paths):\n",
        "    images = []\n",
        "    labels = []\n",
        "\n",
        "    for image in tqdm(image_paths):\n",
        "        image_pixels = plt.imread(image)\n",
        "        image_pixels = cv2.resize(image_pixels, (224, 224))\n",
        "        image_pixels = image_pixels/255.\n",
        "\n",
        "        label = image.split(\"/\")[2].split(\"_\")[0]\n",
        "\n",
        "        images.append(image_pixels)\n",
        "        labels.append(label)\n",
        "\n",
        "    images = np.array(images)\n",
        "    labels = np.array(labels)\n",
        "\n",
        "    print(images.shape, labels.shape)\n",
        "\n",
        "    return images, labels"
      ],
      "execution_count": 0,
      "outputs": []
    },
    {
      "cell_type": "code",
      "metadata": {
        "id": "YJL8IW6UsHkt",
        "colab_type": "code",
        "colab": {
          "base_uri": "https://localhost:8080/",
          "height": 85
        },
        "outputId": "9067c90d-bc03-47f7-bc10-9694ddf88e17"
      },
      "source": [
        "X_train, y_train = prepare_images(train_images_10)\n",
        "X_test, y_test = prepare_images(test_images)"
      ],
      "execution_count": 7,
      "outputs": [
        {
          "output_type": "stream",
          "text": [
            "100%|██████████| 125/125 [00:00<00:00, 168.53it/s]\n",
            "  9%|▉         | 22/250 [00:00<00:01, 210.92it/s]"
          ],
          "name": "stderr"
        },
        {
          "output_type": "stream",
          "text": [
            "(125, 224, 224, 3) (125,)\n"
          ],
          "name": "stdout"
        },
        {
          "output_type": "stream",
          "text": [
            "100%|██████████| 250/250 [00:01<00:00, 187.91it/s]\n"
          ],
          "name": "stderr"
        },
        {
          "output_type": "stream",
          "text": [
            "(250, 224, 224, 3) (250,)\n"
          ],
          "name": "stdout"
        }
      ]
    },
    {
      "cell_type": "code",
      "metadata": {
        "id": "YAv47WlJvse5",
        "colab_type": "code",
        "colab": {}
      },
      "source": [
        "le = LabelEncoder()\n",
        "y_train_enc = le.fit_transform(y_train)\n",
        "y_test_enc = le.transform(y_test)"
      ],
      "execution_count": 0,
      "outputs": []
    },
    {
      "cell_type": "code",
      "metadata": {
        "id": "G8ha8pK7sSUO",
        "colab_type": "code",
        "colab": {}
      },
      "source": [
        "# Architecture utils\n",
        "def get_resnet_simclr(hidden_1, hidden_2):\n",
        "    base_model = tf.keras.applications.ResNet50(include_top=False, weights=None, input_shape=(224, 224, 3))\n",
        "    base_model.trainabe = True\n",
        "    inputs = Input((224, 224, 3))\n",
        "    h = base_model(inputs, training=True)\n",
        "    h = GlobalAveragePooling2D()(h)\n",
        "\n",
        "    projection_1 = Dense(hidden_1)(h)\n",
        "    projection_1 = Activation(\"relu\")(projection_1)\n",
        "    projection_2 = Dense(hidden_2)(projection_1)\n",
        "\n",
        "    resnet_simclr = Model(inputs, projection_2)\n",
        "\n",
        "    return resnet_simclr"
      ],
      "execution_count": 0,
      "outputs": []
    },
    {
      "cell_type": "code",
      "metadata": {
        "id": "X0GklYB-sZYz",
        "colab_type": "code",
        "colab": {
          "base_uri": "https://localhost:8080/",
          "height": 357
        },
        "outputId": "e7458574-1c94-4f72-eebd-a0b502635787"
      },
      "source": [
        "resnet_simclr = get_resnet_simclr(256, 128)\n",
        "resnet_simclr.load_weights(\"/content/20200508-091658resnet_simclr.h5\")\n",
        "resnet_simclr.summary()"
      ],
      "execution_count": 25,
      "outputs": [
        {
          "output_type": "stream",
          "text": [
            "Model: \"model_2\"\n",
            "_________________________________________________________________\n",
            "Layer (type)                 Output Shape              Param #   \n",
            "=================================================================\n",
            "input_4 (InputLayer)         [(None, 224, 224, 3)]     0         \n",
            "_________________________________________________________________\n",
            "resnet50 (Model)             (None, 7, 7, 2048)        23587712  \n",
            "_________________________________________________________________\n",
            "global_average_pooling2d_1 ( (None, 2048)              0         \n",
            "_________________________________________________________________\n",
            "dense_5 (Dense)              (None, 256)               524544    \n",
            "_________________________________________________________________\n",
            "activation_1 (Activation)    (None, 256)               0         \n",
            "_________________________________________________________________\n",
            "dense_6 (Dense)              (None, 128)               32896     \n",
            "=================================================================\n",
            "Total params: 24,145,152\n",
            "Trainable params: 24,092,032\n",
            "Non-trainable params: 53,120\n",
            "_________________________________________________________________\n"
          ],
          "name": "stdout"
        }
      ]
    },
    {
      "cell_type": "code",
      "metadata": {
        "id": "Z1tFKw-7ziaG",
        "colab_type": "code",
        "colab": {}
      },
      "source": [
        "def plot_training(H):\n",
        "\twith plt.xkcd():\n",
        "\t\tplt.plot(H.history[\"loss\"], label=\"train_loss\")\n",
        "\t\tplt.plot(H.history[\"val_loss\"], label=\"val_loss\")\n",
        "\t\tplt.plot(H.history[\"accuracy\"], label=\"train_acc\")\n",
        "\t\tplt.plot(H.history[\"val_accuracy\"], label=\"val_acc\")\n",
        "\t\tplt.title(\"Training Loss and Accuracy\")\n",
        "\t\tplt.xlabel(\"Epoch #\")\n",
        "\t\tplt.ylabel(\"Loss/Accuracy\")\n",
        "\t\tplt.legend(loc=\"lower left\")\n",
        "\t\tplt.show()"
      ],
      "execution_count": 0,
      "outputs": []
    },
    {
      "cell_type": "code",
      "metadata": {
        "id": "qnNJ5BKPsj4u",
        "colab_type": "code",
        "colab": {
          "base_uri": "https://localhost:8080/",
          "height": 34
        },
        "outputId": "929affff-71ce-4e52-bbd0-110f9d81278f"
      },
      "source": [
        "# Encoder model with non-linear projections\n",
        "projection = Model(resnet_simclr.input, resnet_simclr.layers[-2].output)\n",
        "\n",
        "# Extract train and test features\n",
        "train_features = projection.predict(X_train)\n",
        "test_features = projection.predict(X_test)\n",
        "\n",
        "print(train_features.shape, test_features.shape)"
      ],
      "execution_count": 11,
      "outputs": [
        {
          "output_type": "stream",
          "text": [
            "(125, 256) (250, 256)\n"
          ],
          "name": "stdout"
        }
      ]
    },
    {
      "cell_type": "code",
      "metadata": {
        "id": "7XojYORatX4p",
        "colab_type": "code",
        "colab": {}
      },
      "source": [
        "def get_linear_model(features):\n",
        "    linear_model = Sequential([Dense(5, input_shape=(features, ), activation=\"softmax\")])\n",
        "    return linear_model"
      ],
      "execution_count": 0,
      "outputs": []
    },
    {
      "cell_type": "code",
      "metadata": {
        "id": "1B9C0a6003-O",
        "colab_type": "code",
        "colab": {}
      },
      "source": [
        "es = tf.keras.callbacks.EarlyStopping(monitor=\"val_loss\", patience=2, verbose=2, restore_best_weights=True)"
      ],
      "execution_count": 0,
      "outputs": []
    },
    {
      "cell_type": "code",
      "metadata": {
        "id": "-Rb-lf8KvMtR",
        "colab_type": "code",
        "colab": {
          "base_uri": "https://localhost:8080/",
          "height": 1000
        },
        "outputId": "060a5426-51b9-4429-b275-094a602ba234"
      },
      "source": [
        "linear_model = get_linear_model(256)\n",
        "linear_model.compile(loss=\"sparse_categorical_crossentropy\", metrics=[\"accuracy\"],\n",
        "                     optimizer=\"adam\")\n",
        "history = linear_model.fit(train_features, y_train_enc,\n",
        "                 validation_data=(test_features, y_test_enc),\n",
        "                 batch_size=64,\n",
        "                 epochs=35,\n",
        "                 callbacks=[es])\n",
        "plot_training(history)"
      ],
      "execution_count": 24,
      "outputs": [
        {
          "output_type": "stream",
          "text": [
            "Epoch 1/35\n",
            "2/2 [==============================] - 0s 64ms/step - loss: 2.6441 - accuracy: 0.1840 - val_loss: 2.5938 - val_accuracy: 0.1480\n",
            "Epoch 2/35\n",
            "2/2 [==============================] - 0s 23ms/step - loss: 2.4391 - accuracy: 0.2160 - val_loss: 2.4380 - val_accuracy: 0.1760\n",
            "Epoch 3/35\n",
            "2/2 [==============================] - 0s 23ms/step - loss: 2.2553 - accuracy: 0.2160 - val_loss: 2.3100 - val_accuracy: 0.1880\n",
            "Epoch 4/35\n",
            "2/2 [==============================] - 0s 24ms/step - loss: 2.1000 - accuracy: 0.2480 - val_loss: 2.2061 - val_accuracy: 0.2000\n",
            "Epoch 5/35\n",
            "2/2 [==============================] - 0s 23ms/step - loss: 1.9690 - accuracy: 0.2800 - val_loss: 2.1243 - val_accuracy: 0.2160\n",
            "Epoch 6/35\n",
            "2/2 [==============================] - 0s 27ms/step - loss: 1.8635 - accuracy: 0.3200 - val_loss: 2.0585 - val_accuracy: 0.2280\n",
            "Epoch 7/35\n",
            "2/2 [==============================] - 0s 23ms/step - loss: 1.7729 - accuracy: 0.3120 - val_loss: 2.0038 - val_accuracy: 0.2160\n",
            "Epoch 8/35\n",
            "2/2 [==============================] - 0s 24ms/step - loss: 1.6967 - accuracy: 0.3360 - val_loss: 1.9572 - val_accuracy: 0.2160\n",
            "Epoch 9/35\n",
            "2/2 [==============================] - 0s 25ms/step - loss: 1.6327 - accuracy: 0.3600 - val_loss: 1.9126 - val_accuracy: 0.2400\n",
            "Epoch 10/35\n",
            "2/2 [==============================] - 0s 24ms/step - loss: 1.5745 - accuracy: 0.3600 - val_loss: 1.8722 - val_accuracy: 0.2480\n",
            "Epoch 11/35\n",
            "2/2 [==============================] - 0s 24ms/step - loss: 1.5205 - accuracy: 0.3760 - val_loss: 1.8319 - val_accuracy: 0.2680\n",
            "Epoch 12/35\n",
            "2/2 [==============================] - 0s 24ms/step - loss: 1.4675 - accuracy: 0.3920 - val_loss: 1.7943 - val_accuracy: 0.2760\n",
            "Epoch 13/35\n",
            "2/2 [==============================] - 0s 23ms/step - loss: 1.4235 - accuracy: 0.4080 - val_loss: 1.7581 - val_accuracy: 0.2840\n",
            "Epoch 14/35\n",
            "2/2 [==============================] - 0s 24ms/step - loss: 1.3794 - accuracy: 0.4400 - val_loss: 1.7246 - val_accuracy: 0.2880\n",
            "Epoch 15/35\n",
            "2/2 [==============================] - 0s 24ms/step - loss: 1.3402 - accuracy: 0.4800 - val_loss: 1.6935 - val_accuracy: 0.3040\n",
            "Epoch 16/35\n",
            "2/2 [==============================] - 0s 23ms/step - loss: 1.3019 - accuracy: 0.5200 - val_loss: 1.6643 - val_accuracy: 0.3120\n",
            "Epoch 17/35\n",
            "2/2 [==============================] - 0s 24ms/step - loss: 1.2695 - accuracy: 0.5280 - val_loss: 1.6365 - val_accuracy: 0.3320\n",
            "Epoch 18/35\n",
            "2/2 [==============================] - 0s 25ms/step - loss: 1.2371 - accuracy: 0.5280 - val_loss: 1.6118 - val_accuracy: 0.3440\n",
            "Epoch 19/35\n",
            "2/2 [==============================] - 0s 23ms/step - loss: 1.2058 - accuracy: 0.5360 - val_loss: 1.5890 - val_accuracy: 0.3480\n",
            "Epoch 20/35\n",
            "2/2 [==============================] - 0s 23ms/step - loss: 1.1796 - accuracy: 0.5440 - val_loss: 1.5680 - val_accuracy: 0.3760\n",
            "Epoch 21/35\n",
            "2/2 [==============================] - 0s 23ms/step - loss: 1.1512 - accuracy: 0.5600 - val_loss: 1.5493 - val_accuracy: 0.3840\n",
            "Epoch 22/35\n",
            "2/2 [==============================] - 0s 23ms/step - loss: 1.1285 - accuracy: 0.5680 - val_loss: 1.5320 - val_accuracy: 0.3800\n",
            "Epoch 23/35\n",
            "2/2 [==============================] - 0s 24ms/step - loss: 1.1066 - accuracy: 0.5680 - val_loss: 1.5160 - val_accuracy: 0.3840\n",
            "Epoch 24/35\n",
            "2/2 [==============================] - 0s 27ms/step - loss: 1.0845 - accuracy: 0.6160 - val_loss: 1.5024 - val_accuracy: 0.3960\n",
            "Epoch 25/35\n",
            "2/2 [==============================] - 0s 27ms/step - loss: 1.0649 - accuracy: 0.6240 - val_loss: 1.4902 - val_accuracy: 0.4000\n",
            "Epoch 26/35\n",
            "2/2 [==============================] - 0s 25ms/step - loss: 1.0467 - accuracy: 0.6480 - val_loss: 1.4801 - val_accuracy: 0.4040\n",
            "Epoch 27/35\n",
            "2/2 [==============================] - 0s 23ms/step - loss: 1.0288 - accuracy: 0.6560 - val_loss: 1.4706 - val_accuracy: 0.4040\n",
            "Epoch 28/35\n",
            "2/2 [==============================] - 0s 27ms/step - loss: 1.0133 - accuracy: 0.6480 - val_loss: 1.4610 - val_accuracy: 0.4120\n",
            "Epoch 29/35\n",
            "2/2 [==============================] - 0s 24ms/step - loss: 0.9978 - accuracy: 0.6560 - val_loss: 1.4538 - val_accuracy: 0.4200\n",
            "Epoch 30/35\n",
            "2/2 [==============================] - 0s 23ms/step - loss: 0.9838 - accuracy: 0.6640 - val_loss: 1.4460 - val_accuracy: 0.4200\n",
            "Epoch 31/35\n",
            "2/2 [==============================] - 0s 23ms/step - loss: 0.9704 - accuracy: 0.6800 - val_loss: 1.4391 - val_accuracy: 0.4160\n",
            "Epoch 32/35\n",
            "2/2 [==============================] - 0s 23ms/step - loss: 0.9566 - accuracy: 0.6880 - val_loss: 1.4336 - val_accuracy: 0.4240\n",
            "Epoch 33/35\n",
            "2/2 [==============================] - 0s 24ms/step - loss: 0.9445 - accuracy: 0.7040 - val_loss: 1.4276 - val_accuracy: 0.4240\n",
            "Epoch 34/35\n",
            "2/2 [==============================] - 0s 23ms/step - loss: 0.9322 - accuracy: 0.7120 - val_loss: 1.4234 - val_accuracy: 0.4240\n",
            "Epoch 35/35\n",
            "2/2 [==============================] - 0s 24ms/step - loss: 0.9207 - accuracy: 0.7120 - val_loss: 1.4188 - val_accuracy: 0.4280\n"
          ],
          "name": "stdout"
        },
        {
          "output_type": "display_data",
          "data": {
            "image/png": "[encoded data removed]",
            "text/plain": [
              "<Figure size 432x288 with 1 Axes>"
            ]
          },
          "metadata": {
            "tags": []
          }
        }
      ]
    },
    {
      "cell_type": "code",
      "metadata": {
        "id": "pNQxjmTsvd_u",
        "colab_type": "code",
        "colab": {
          "base_uri": "https://localhost:8080/",
          "height": 34
        },
        "outputId": "c65db605-454e-422f-888d-b4b50b3d46f3"
      },
      "source": [
        "# Encoder model with no projections\n",
        "projection = Model(resnet_simclr.input, resnet_simclr.layers[-4].output)\n",
        "\n",
        "# Extract train and test features\n",
        "train_features = projection.predict(X_train)\n",
        "test_features = projection.predict(X_test)\n",
        "\n",
        "print(train_features.shape, test_features.shape)"
      ],
      "execution_count": 26,
      "outputs": [
        {
          "output_type": "stream",
          "text": [
            "(125, 2048) (250, 2048)\n"
          ],
          "name": "stdout"
        }
      ]
    },
    {
      "cell_type": "code",
      "metadata": {
        "id": "N4YLxLpw1rWK",
        "colab_type": "code",
        "colab": {
          "base_uri": "https://localhost:8080/",
          "height": 575
        },
        "outputId": "50ad43b4-93ec-4163-f4ec-209f5a11e35b"
      },
      "source": [
        "linear_model = get_linear_model(2048)\n",
        "linear_model.compile(loss=\"sparse_categorical_crossentropy\", metrics=[\"accuracy\"],\n",
        "                     optimizer=\"adam\")\n",
        "history = linear_model.fit(train_features, y_train_enc,\n",
        "                 validation_data=(test_features, y_test_enc),\n",
        "                 batch_size=64,\n",
        "                 epochs=35,\n",
        "                 callbacks=[es])\n",
        "plot_training(history)"
      ],
      "execution_count": 27,
      "outputs": [
        {
          "output_type": "stream",
          "text": [
            "Epoch 1/35\n",
            "2/2 [==============================] - 0s 64ms/step - loss: 1.9048 - accuracy: 0.2080 - val_loss: 1.9608 - val_accuracy: 0.2880\n",
            "Epoch 2/35\n",
            "2/2 [==============================] - 0s 25ms/step - loss: 1.8215 - accuracy: 0.3200 - val_loss: 1.7038 - val_accuracy: 0.3040\n",
            "Epoch 3/35\n",
            "2/2 [==============================] - 0s 25ms/step - loss: 1.5381 - accuracy: 0.4000 - val_loss: 1.4364 - val_accuracy: 0.3560\n",
            "Epoch 4/35\n",
            "2/2 [==============================] - 0s 24ms/step - loss: 1.3559 - accuracy: 0.4240 - val_loss: 1.3165 - val_accuracy: 0.4440\n",
            "Epoch 5/35\n",
            "2/2 [==============================] - 0s 24ms/step - loss: 1.2765 - accuracy: 0.4720 - val_loss: 1.2853 - val_accuracy: 0.4640\n",
            "Epoch 6/35\n",
            "2/2 [==============================] - 0s 22ms/step - loss: 1.1686 - accuracy: 0.5440 - val_loss: 1.3424 - val_accuracy: 0.4800\n",
            "Epoch 7/35\n",
            "1/2 [==============>...............] - ETA: 0s - loss: 1.1671 - accuracy: 0.5938Restoring model weights from the end of the best epoch.\n",
            "2/2 [==============================] - 0s 24ms/step - loss: 1.1476 - accuracy: 0.5840 - val_loss: 1.3325 - val_accuracy: 0.5120\n",
            "Epoch 00007: early stopping\n"
          ],
          "name": "stdout"
        },
        {
          "output_type": "display_data",
          "data": {
            "image/png": "[encoded data removed]",
            "text/plain": [
              "<Figure size 432x288 with 1 Axes>"
            ]
          },
          "metadata": {
            "tags": []
          }
        }
      ]
    }
  ]
}